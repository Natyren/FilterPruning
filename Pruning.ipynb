{
  "nbformat": 4,
  "nbformat_minor": 0,
  "metadata": {
    "colab": {
      "name": "MIL_pruning.ipynb",
      "provenance": []
    },
    "kernelspec": {
      "name": "python3",
      "display_name": "Python 3"
    },
    "accelerator": "GPU"
  },
  "cells": [
    {
      "cell_type": "markdown",
      "metadata": {
        "id": "btnF4ulq-AiJ"
      },
      "source": [
        "#Введение в pruning"
      ]
    },
    {
      "cell_type": "markdown",
      "metadata": {
        "id": "4EN2Xl9N-qH9"
      },
      "source": [
        "Успех нейронных сетей во многом обуславливается их глубиной, но одновременно с ростом качества, растет время работы (как во время обучения, так и во время валидации) и размер. Метод называющийся pruning призван уменьшить размер сети и время инференса. Выделяют две главные категории pruning'a, первая: filter pruning, когда мы избавляемся от лишних вычислений, благодаря \"обрезанию\" неэффективных \"нейронов\"; вторая: weight pruning, когда зануляются веса сети, делая ее более разряженной. "
      ]
    },
    {
      "cell_type": "markdown",
      "metadata": {
        "id": "U0EmAl4f966g"
      },
      "source": [
        "#Обучение и загрузка датасета (Шаги 2-4)"
      ]
    },
    {
      "cell_type": "code",
      "metadata": {
        "colab": {
          "base_uri": "https://localhost:8080/"
        },
        "id": "NV_BviUPQRON",
        "outputId": "ec9ea1d4-8726-4505-8b77-a11dc3fdd16e"
      },
      "source": [
        "from google.colab import drive\r\n",
        "drive.mount('content/')"
      ],
      "execution_count": 1,
      "outputs": [
        {
          "output_type": "stream",
          "text": [
            "Drive already mounted at content/; to attempt to forcibly remount, call drive.mount(\"content/\", force_remount=True).\n"
          ],
          "name": "stdout"
        }
      ]
    },
    {
      "cell_type": "code",
      "metadata": {
        "id": "OKCpjOvZk6x_"
      },
      "source": [
        "import torch\r\n",
        "import torchvision\r\n",
        "import torch.optim as optim\r\n",
        "from torch.optim import lr_scheduler\r\n",
        "from torch import nn\r\n",
        "from torchvision import models, datasets, transforms\r\n",
        "from torch.utils.data import DataLoader\r\n",
        "from tqdm import tqdm\r\n",
        "from sklearn.metrics import f1_score as f1\r\n",
        "from sklearn.metrics import accuracy_score as accuracy\r\n",
        "from sklearn.cluster import KMeans, MeanShift, DBSCAN, AgglomerativeClustering, AffinityPropagation\r\n",
        "import warnings\r\n",
        "\r\n",
        "import random\r\n",
        "import numpy as np\r\n",
        "import os\r\n",
        "from utils import *\r\n",
        "\r\n",
        "device = torch.device(\"cuda:0\" if torch.cuda.is_available() else \"cpu\")\r\n",
        "import time\r\n",
        "\r\n",
        "warnings.filterwarnings('ignore')"
      ],
      "execution_count": 2,
      "outputs": []
    },
    {
      "cell_type": "code",
      "metadata": {
        "id": "4dz8QXgsodMN"
      },
      "source": [
        "class CFG:\r\n",
        "  epochs = 3 #для получения предложенных весов тренировка производилась на 100 эпохах, для демонстрационных целей это количество было уменьшено\r\n",
        "  lr = 0.1\r\n",
        "  momentum = 0.9\r\n",
        "  weight_decay = 1e-4\r\n",
        "  seed = 7"
      ],
      "execution_count": 3,
      "outputs": []
    },
    {
      "cell_type": "markdown",
      "metadata": {
        "id": "ZVQX4jRIhRPx"
      },
      "source": [
        "Так как resnet20 известная архитектура можем взять ее реализацию из открытых источников."
      ]
    },
    {
      "cell_type": "code",
      "metadata": {
        "colab": {
          "base_uri": "https://localhost:8080/"
        },
        "id": "VNnTD_EgSAK6",
        "outputId": "39a817ed-3ca6-4cd8-f534-68b2d9805b45"
      },
      "source": [
        "!git clone https://github.com/akamaster/pytorch_resnet_cifar10.git"
      ],
      "execution_count": 4,
      "outputs": [
        {
          "output_type": "stream",
          "text": [
            "fatal: destination path 'pytorch_resnet_cifar10' already exists and is not an empty directory.\n"
          ],
          "name": "stdout"
        }
      ]
    },
    {
      "cell_type": "code",
      "metadata": {
        "id": "5Z84HrNoTS2V"
      },
      "source": [
        "import sys\r\n",
        "sys.path.insert(0,'/content/pytorch_resnet_cifar10')\r\n",
        "import resnet\r\n",
        "sys.path.insert(0,'/content/')"
      ],
      "execution_count": 5,
      "outputs": []
    },
    {
      "cell_type": "markdown",
      "metadata": {
        "id": "nLygBTmdkFGj"
      },
      "source": [
        "Во время обучения используется только пара \"легких аугментаций\", этого достаточно чтобы достичь качества свыше 90% (как по метрике accuracy, так и по метрике precision, каждую из которых можно перевести как точность). Датасет CIFAR10 загружаем и обрабатываем в автоматическом режиме."
      ]
    },
    {
      "cell_type": "code",
      "metadata": {
        "colab": {
          "base_uri": "https://localhost:8080/"
        },
        "id": "0ExLKTP1fS-d",
        "outputId": "42032d1c-5e98-4ed3-cb8a-e372677136a2"
      },
      "source": [
        "data_transforms = {\r\n",
        "    'train': transforms.Compose([\r\n",
        "        transforms.RandomHorizontalFlip(p=0.5),\r\n",
        "        transforms.RandomCrop(32, 4),\r\n",
        "        transforms.ToTensor(),\r\n",
        "        transforms.Normalize([0.485, 0.456, 0.406], [0.229, 0.224, 0.225])\r\n",
        "    ]),\r\n",
        "    'val': transforms.Compose([\r\n",
        "        transforms.ToTensor(),\r\n",
        "        transforms.Normalize([0.485, 0.456, 0.406], [0.229, 0.224, 0.225])\r\n",
        "    ]),\r\n",
        "}\r\n",
        "\r\n",
        "trainset = datasets.CIFAR10(root='/content', train=True, download=True, transform=data_transforms['train'])\r\n",
        "valset = datasets.CIFAR10(root='/content', train=False, download=True, transform=data_transforms['val'])\r\n",
        "\r\n",
        "dataloaders = {'train' : DataLoader(trainset, batch_size=200, shuffle=True),\r\n",
        "               'val' : DataLoader(valset, batch_size=200, shuffle=False)}"
      ],
      "execution_count": 6,
      "outputs": [
        {
          "output_type": "stream",
          "text": [
            "Files already downloaded and verified\n",
            "Files already downloaded and verified\n"
          ],
          "name": "stdout"
        }
      ]
    },
    {
      "cell_type": "markdown",
      "metadata": {
        "id": "48-cwEypkuxS"
      },
      "source": [
        "Воспользуемся той же функцией потерь и методом градиентного спуска что и в оригинальной статье. (https://arxiv.org/abs/1512.03385)"
      ]
    },
    {
      "cell_type": "code",
      "metadata": {
        "id": "icimUj9JpKDU"
      },
      "source": [
        "seed_everything(CFG.seed)\r\n",
        "model = resnet.resnet20().to(device)\r\n",
        "criterion = nn.CrossEntropyLoss().to(device)\r\n",
        "optimizer = optim.SGD(model.parameters(), lr=CFG.lr, momentum=CFG.momentum, weight_decay=CFG.weight_decay)\r\n",
        "scheduler = optim.lr_scheduler.MultiStepLR(optimizer, milestones=[50, 75], gamma=0.1)"
      ],
      "execution_count": 7,
      "outputs": []
    },
    {
      "cell_type": "code",
      "metadata": {
        "colab": {
          "base_uri": "https://localhost:8080/"
        },
        "id": "Nha10lLLuxIW",
        "outputId": "044b68ad-b667-43d4-b2a7-94b68f037ef2"
      },
      "source": [
        "train_val(CFG, model, dataloaders, criterion, optimizer, scheduler, device)"
      ],
      "execution_count": 8,
      "outputs": [
        {
          "output_type": "stream",
          "text": [
            "Epoch 0\n"
          ],
          "name": "stdout"
        },
        {
          "output_type": "stream",
          "text": [
            "100%|██████████| 250/250 [00:28<00:00,  8.73it/s]\n"
          ],
          "name": "stderr"
        },
        {
          "output_type": "stream",
          "text": [
            "Phase train\n",
            "Accuracy 0.37684\n",
            "Loss 1.6873382058143616\n",
            "\n"
          ],
          "name": "stdout"
        },
        {
          "output_type": "stream",
          "text": [
            "100%|██████████| 50/50 [00:02<00:00, 18.86it/s]\n"
          ],
          "name": "stderr"
        },
        {
          "output_type": "stream",
          "text": [
            "Phase val\n",
            "Accuracy 0.4459\n",
            "Loss 1.615683946609497\n",
            "\n",
            "Epoch 1\n"
          ],
          "name": "stdout"
        },
        {
          "output_type": "stream",
          "text": [
            "100%|██████████| 250/250 [00:29<00:00,  8.61it/s]\n"
          ],
          "name": "stderr"
        },
        {
          "output_type": "stream",
          "text": [
            "Phase train\n",
            "Accuracy 0.56108\n",
            "Loss 1.2010771565437317\n",
            "\n"
          ],
          "name": "stdout"
        },
        {
          "output_type": "stream",
          "text": [
            "100%|██████████| 50/50 [00:02<00:00, 18.55it/s]\n"
          ],
          "name": "stderr"
        },
        {
          "output_type": "stream",
          "text": [
            "Phase val\n",
            "Accuracy 0.5799\n",
            "Loss 1.1994066381454467\n",
            "\n",
            "Epoch 2\n"
          ],
          "name": "stdout"
        },
        {
          "output_type": "stream",
          "text": [
            "100%|██████████| 250/250 [00:28<00:00,  8.77it/s]\n"
          ],
          "name": "stderr"
        },
        {
          "output_type": "stream",
          "text": [
            "Phase train\n",
            "Accuracy 0.6599\n",
            "Loss 0.9591229903697968\n",
            "\n"
          ],
          "name": "stdout"
        },
        {
          "output_type": "stream",
          "text": [
            "100%|██████████| 50/50 [00:02<00:00, 19.17it/s]\n"
          ],
          "name": "stderr"
        },
        {
          "output_type": "stream",
          "text": [
            "Phase val\n",
            "Accuracy 0.643\n",
            "Loss 1.013540394306183\n",
            "\n"
          ],
          "name": "stdout"
        }
      ]
    },
    {
      "cell_type": "code",
      "metadata": {
        "colab": {
          "base_uri": "https://localhost:8080/"
        },
        "id": "5XcaZrY16BVI",
        "outputId": "ab095d47-2e8e-44c3-de42-d1c7776e1705"
      },
      "source": [
        "validate(model, dataloaders)"
      ],
      "execution_count": 9,
      "outputs": [
        {
          "output_type": "stream",
          "text": [
            "100%|██████████| 50/50 [00:26<00:00,  1.90it/s]\n"
          ],
          "name": "stderr"
        },
        {
          "output_type": "stream",
          "text": [
            "Аккуратность на тестовом датасете равна 0.643\n",
            "Точность на тестовом датасете равна 0.6756250451428535\n"
          ],
          "name": "stdout"
        }
      ]
    },
    {
      "cell_type": "markdown",
      "metadata": {
        "id": "yqL4oYwIkZXj"
      },
      "source": [
        "# Pruning (шаг 5)"
      ]
    },
    {
      "cell_type": "markdown",
      "metadata": {
        "id": "mPLMUzGxlTYI"
      },
      "source": [
        "Загружаем веса в нашу модель."
      ]
    },
    {
      "cell_type": "code",
      "metadata": {
        "colab": {
          "base_uri": "https://localhost:8080/"
        },
        "id": "v_3_Cdgqkg92",
        "outputId": "c3f95937-6cd3-4f9b-8bb3-4754308dbdb4"
      },
      "source": [
        "model.load_state_dict(torch.load('/content/content/MyDrive/resnet20_cifar_weights.pt'))\r\n",
        "validate(model, dataloaders)"
      ],
      "execution_count": 10,
      "outputs": [
        {
          "output_type": "stream",
          "text": [
            "100%|██████████| 50/50 [00:25<00:00,  1.93it/s]\n"
          ],
          "name": "stderr"
        },
        {
          "output_type": "stream",
          "text": [
            "Аккуратность на тестовом датасете равна 0.908\n",
            "Точность на тестовом датасете равна 0.9076657641779079\n"
          ],
          "name": "stdout"
        }
      ]
    },
    {
      "cell_type": "markdown",
      "metadata": {
        "id": "NZkAYEr_mmAL"
      },
      "source": [
        "Посмотрим на то как работает pruning в трех разных случаях:\r\n",
        "\r\n",
        "**Когда мы одинаково уменьшаем число кластеров относительно количества первоначальных сверточных слоев**"
      ]
    },
    {
      "cell_type": "code",
      "metadata": {
        "colab": {
          "base_uri": "https://localhost:8080/"
        },
        "id": "O1egvwUVcTZr",
        "outputId": "96f9c446-2240-4c84-ac0e-478e9da10c8d"
      },
      "source": [
        "prune(model, regime='reduce', k=3)\r\n",
        "time.sleep(0.3)\r\n",
        "validate(model, dataloaders)\r\n",
        "model.load_state_dict(torch.load('/content/content/MyDrive/resnet20_cifar_weights.pt'));"
      ],
      "execution_count": 11,
      "outputs": [
        {
          "output_type": "stream",
          "text": [
            "100%|██████████| 50/50 [00:25<00:00,  1.93it/s]\n"
          ],
          "name": "stderr"
        },
        {
          "output_type": "stream",
          "text": [
            "Аккуратность на тестовом датасете равна 0.6363\n",
            "Точность на тестовом датасете равна 0.7537858244273183\n"
          ],
          "name": "stdout"
        }
      ]
    },
    {
      "cell_type": "markdown",
      "metadata": {
        "id": "y_lm6P1CnAHD"
      },
      "source": [
        "**Когда мы используем одинаковое количество кластеров для всех слоев**"
      ]
    },
    {
      "cell_type": "code",
      "metadata": {
        "colab": {
          "base_uri": "https://localhost:8080/"
        },
        "id": "0_ZiR_ere1cF",
        "outputId": "ad3f101e-796e-4d95-cc5e-cf6889c9f059"
      },
      "source": [
        "prune(model, regime='union', k=10)\r\n",
        "time.sleep(0.3)\r\n",
        "validate(model, dataloaders)\r\n",
        "model.load_state_dict(torch.load('/content/content/MyDrive/resnet20_cifar_weights.pt'));"
      ],
      "execution_count": 12,
      "outputs": [
        {
          "output_type": "stream",
          "text": [
            "100%|██████████| 50/50 [00:26<00:00,  1.90it/s]\n"
          ],
          "name": "stderr"
        },
        {
          "output_type": "stream",
          "text": [
            "Аккуратность на тестовом датасете равна 0.1152\n",
            "Точность на тестовом датасете равна 0.029143750728154366\n"
          ],
          "name": "stdout"
        }
      ]
    },
    {
      "cell_type": "markdown",
      "metadata": {
        "id": "C_agGxpzncSy"
      },
      "source": [
        "**Когда мы используем в центральном слое меньше кластеров чем в крайних**"
      ]
    },
    {
      "cell_type": "code",
      "metadata": {
        "colab": {
          "base_uri": "https://localhost:8080/"
        },
        "id": "KpnAbhAHfPGK",
        "outputId": "fdd94243-c435-493c-f503-5543f0964199"
      },
      "source": [
        "prune(model, regime='custom', k=10)\r\n",
        "time.sleep(0.3)\r\n",
        "validate(model, dataloaders)\r\n",
        "model.load_state_dict(torch.load('/content/content/MyDrive/resnet20_cifar_weights.pt'));"
      ],
      "execution_count": 13,
      "outputs": [
        {
          "output_type": "stream",
          "text": [
            "100%|██████████| 50/50 [00:26<00:00,  1.90it/s]\n"
          ],
          "name": "stderr"
        },
        {
          "output_type": "stream",
          "text": [
            "Аккуратность на тестовом датасете равна 0.1006\n",
            "Точность на тестовом датасете равна 0.043225740853643155\n"
          ],
          "name": "stdout"
        }
      ]
    },
    {
      "cell_type": "markdown",
      "metadata": {
        "id": "n0ASyHP8scns"
      },
      "source": [
        "#Построение графиков и выводы (шаг 6)"
      ]
    },
    {
      "cell_type": "markdown",
      "metadata": {
        "id": "LIPuHlqwpOaU"
      },
      "source": [
        "### Как мы можем заметить самым эффективным методом является уменьшение числа кластеров относительного первоначального числа слоев. Построим для этого случая график и посмотрим что происходит с accuracy по мере уменьшения числа слоев."
      ]
    },
    {
      "cell_type": "code",
      "metadata": {
        "id": "UtdA5ZaHpkuW"
      },
      "source": [
        "accs = []\r\n",
        "for i in range(1, 10):\r\n",
        "    prune(model, regime='reduce', k=i)\r\n",
        "    time.sleep(0.3)\r\n",
        "    accs.append(validate(model, dataloaders, verbose=False))\r\n",
        "    model.load_state_dict(torch.load('/content/content/MyDrive/resnet20_cifar_weights.pt'));\r\n"
      ],
      "execution_count": 14,
      "outputs": []
    },
    {
      "cell_type": "code",
      "metadata": {
        "colab": {
          "base_uri": "https://localhost:8080/",
          "height": 265
        },
        "id": "g_p-H5R7q7de",
        "outputId": "321c0771-8560-4dae-91d8-080d79ff3107"
      },
      "source": [
        "import matplotlib.pyplot as plt\r\n",
        "\r\n",
        "plt.plot(range(1,10), accs, label='Reduce Curve')\r\n",
        "plt.legend()\r\n",
        "plt.show()"
      ],
      "execution_count": 15,
      "outputs": [
        {
          "output_type": "display_data",
          "data": {
            "image/png": "[encoded data removed]",
            "text/plain": [
              "<Figure size 432x288 with 1 Axes>"
            ]
          },
          "metadata": {
            "tags": [],
            "needs_background": "light"
          }
        }
      ]
    },
    {
      "cell_type": "markdown",
      "metadata": {
        "id": "kuP-GSCsrOOh"
      },
      "source": [
        "**С уменьшением числа кластеров падает и точность сети. Реализованный метод работает плохо, так как точность сети подает значительно, при совсем незначительных приростах в скорости работы**"
      ]
    },
    {
      "cell_type": "markdown",
      "metadata": {
        "id": "mm960dftrtsE"
      },
      "source": [
        "# Предложения по улучшению (Шаг 7)"
      ]
    },
    {
      "cell_type": "markdown",
      "metadata": {
        "id": "5QnUfSkqszMC"
      },
      "source": [
        "1. Мы исопльзовали самый простой алгоритм кластеризации (KMeans), который плохо справляется с кластеризацией не сферических данных. Так что стоит попробовать другие алгоритмы кластеризации.\r\n",
        "2. В данном подходе мы обучали кластеризацию на векторе признаков свертки, не учитывающем ее пространственную корреляцию (то есть на линейном представлении свертки), в результате чего потеряли важную информацию. Это привело к бОльшой потере в качестве."
      ]
    },
    {
      "cell_type": "code",
      "metadata": {
        "id": "gdUC-4Mwu92S"
      },
      "source": [
        ""
      ],
      "execution_count": null,
      "outputs": []
    }
  ]
}
